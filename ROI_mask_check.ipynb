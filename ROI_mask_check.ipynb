{
 "cells": [
  {
   "cell_type": "code",
   "execution_count": 1,
   "metadata": {},
   "outputs": [],
   "source": [
    "from read_roi import read_roi_zip\n",
    "from read_roi import read_roi_file\n",
    "import zipfile\n",
    "import pydicom\n",
    "import glob\n",
    "import numpy as np\n",
    "import cv2\n",
    "import os\n",
    "import shutil\n",
    "from distal_radius_func import *\n",
    "import matplotlib.pyplot as plt"
   ]
  },
  {
   "cell_type": "code",
   "execution_count": 2,
   "metadata": {},
   "outputs": [],
   "source": [
    "folder_path = '../2_data2/1_final_png_match_/'\n",
    "\n",
    "img_path_li = glob.glob(folder_path + '*.png')\n",
    "roi_path_li = glob.glob(folder_path + '*.roi')"
   ]
  },
  {
   "cell_type": "code",
   "execution_count": 3,
   "metadata": {},
   "outputs": [
    {
     "data": {
      "text/plain": [
       "(2535, 2535)"
      ]
     },
     "execution_count": 3,
     "metadata": {},
     "output_type": "execute_result"
    }
   ],
   "source": [
    "len(img_path_li), len(roi_path_li)"
   ]
  },
  {
   "cell_type": "code",
   "execution_count": 4,
   "metadata": {},
   "outputs": [],
   "source": [
    "for index, (roi_path, img_path) in enumerate(zip(roi_path_li, img_path_li)):\n",
    "#     if index == 9:\n",
    "#         break\n",
    "    img = cv2.imread(img_path, 0)\n",
    "    clahe = cv2.createCLAHE(clipLimit=2.0, tileGridSize=(8,8))\n",
    "    img = clahe.apply(img)\n",
    "    img_name = img_path[img_path.rindex('\\\\')+1:]\n",
    "    roi_name = roi_path[roi_path.rindex('\\\\')+1:]\n",
    "    \n",
    "        \n",
    "    np_roi_xy = ROI_file_xy(roi_path)\n",
    "    img = cv2.cvtColor(img, cv2.COLOR_GRAY2BGR)\n",
    "    image = cv2.polylines(img, [np_roi_xy], True, (0, 255, 255))\n",
    "    cv2.imwrite('../2_data2/2_check/'+img_name, image)\n",
    "#     print(image.shape)\n",
    "#     plt.imshow(image)\n",
    "#     plt.show()"
   ]
  },
  {
   "cell_type": "code",
   "execution_count": 8,
   "metadata": {},
   "outputs": [
    {
     "name": "stdout",
     "output_type": "stream",
     "text": [
      "30 30\n"
     ]
    }
   ],
   "source": [
    "folder_path = '../99_scaphoid_test/'\n",
    "\n",
    "img_path_li = glob.glob(folder_path + '*.png')\n",
    "roi_path_li = glob.glob(folder_path + '*_s.roi')\n",
    "\n",
    "print(len(img_path_li), len(roi_path_li))"
   ]
  },
  {
   "cell_type": "code",
   "execution_count": 10,
   "metadata": {},
   "outputs": [],
   "source": [
    "for index, (roi_path, img_path) in enumerate(zip(roi_path_li, img_path_li)):\n",
    "#     if index == 9:\n",
    "#         break\n",
    "    img = cv2.imread(img_path, 0)\n",
    "    clahe = cv2.createCLAHE(clipLimit=2.0, tileGridSize=(8,8))\n",
    "    img = clahe.apply(img)\n",
    "    img_name = img_path[img_path.rindex('\\\\')+1:]\n",
    "    roi_name = roi_path[roi_path.rindex('\\\\')+1:]\n",
    "    \n",
    "        \n",
    "    np_roi_xy = ROI_file_xy(roi_path)\n",
    "    img = cv2.cvtColor(img, cv2.COLOR_GRAY2BGR)\n",
    "    image = cv2.polylines(img, [np_roi_xy], True, (0, 255, 255))\n",
    "    cv2.imwrite('../99_scaphoid_test/check/'+img_name, image)\n",
    "#     print(image.shape)\n",
    "#     plt.imshow(image)\n",
    "#     plt.show()"
   ]
  },
  {
   "cell_type": "code",
   "execution_count": 9,
   "metadata": {},
   "outputs": [
    {
     "data": {
      "text/plain": [
       "'0036696_X3L.png'"
      ]
     },
     "execution_count": 9,
     "metadata": {},
     "output_type": "execute_result"
    }
   ],
   "source": [
    "img_name"
   ]
  }
 ],
 "metadata": {
  "kernelspec": {
   "display_name": "Python 3",
   "language": "python",
   "name": "python3"
  },
  "language_info": {
   "codemirror_mode": {
    "name": "ipython",
    "version": 3
   },
   "file_extension": ".py",
   "mimetype": "text/x-python",
   "name": "python",
   "nbconvert_exporter": "python",
   "pygments_lexer": "ipython3",
   "version": "3.5.2"
  }
 },
 "nbformat": 4,
 "nbformat_minor": 4
}
